{
  "cells": [
    {
      "cell_type": "markdown",
      "metadata": {
        "id": "dcp8pBidtAtl"
      },
      "source": [
        "# Wipe notebook - just debugging stuff\n",
        "\n"
      ]
    },
    {
      "cell_type": "code",
      "execution_count": 9,
      "metadata": {
        "colab": {
          "base_uri": "https://localhost:8080/"
        },
        "id": "SS1hF_TYlYH0",
        "outputId": "b7b7b18c-06b2-4a5f-8d3f-e75429607c80"
      },
      "outputs": [
        {
          "ename": "SyntaxError",
          "evalue": "invalid syntax (60320609.py, line 42)",
          "output_type": "error",
          "traceback": [
            "  \u001b[36mCell\u001b[39m\u001b[36m \u001b[39m\u001b[32mIn[9]\u001b[39m\u001b[32m, line 42\u001b[39m\n\u001b[31m    \u001b[39m\u001b[31m---------------------------------------------------------------------------\u001b[39m\n                                                                               ^\n\u001b[31mSyntaxError\u001b[39m\u001b[31m:\u001b[39m invalid syntax\n"
          ]
        }
      ],
      "source": [
        "# Delete existing web-search-sdk checkout in Colab\n",
        "import subprocess, sys, pathlib, os, shutil, errno\n",
        "\n",
        "REPO_DIR = pathlib.Path(\"/content/web-search-sdk\")\n",
        "\n",
        "# --- SAFETY GUARD: Multiple checks to ensure we're in Google Colab ---\n",
        "def is_google_colab():\n",
        "    \"\"\"Check if we're running in Google Colab environment\"\"\"\n",
        "    # Method 1: Check if google.colab module is available\n",
        "    try:\n",
        "        import google.colab\n",
        "        return True\n",
        "    except ImportError:\n",
        "        pass\n",
        "    \n",
        "    # Method 2: Check if google.colab is in sys.modules\n",
        "    if \"google.colab\" in sys.modules:\n",
        "        return True\n",
        "    \n",
        "    # Method 3: Check environment variables\n",
        "    import os\n",
        "    if os.environ.get('COLAB_GPU') or os.environ.get('COLAB_TPU'):\n",
        "        return True\n",
        "    \n",
        "    # Method 4: Check if we're in /content directory (Colab's working dir)\n",
        "    if str(pathlib.Path.cwd()).startswith('/content'):\n",
        "        return True\n",
        "    \n",
        "    return False\n",
        "\n",
        "if not is_google_colab():\n",
        "    raise RuntimeError(\n",
        "        \"❌ SAFETY CHECK FAILED: This notebook is NOT running in Google Colab!\\n\"\n",
        "        \"• Current working directory: \" + str(pathlib.Path.cwd()) + \"\\n\"\n",
        "        \"• sys.modules contains google.colab: \" + str(\"google.colab\" in sys.modules) + \"\\n\"\n",
        "        \"• Environment variables: COLAB_GPU=\" + str(os.environ.get('COLAB_GPU', 'None')) + \n",
        "        \", COLAB_TPU=\" + str(os.environ.get('COLAB_TPU', 'None')) + \"\\n\"\n",
        "        \"Refusing to delete or modify any local files. This cell is for Colab only.\"\n",
        "    )\n",
        "\n",
        "print(\"✅ SAFETY CHECK PASSED: Running in Google Colab - proceeding with cleanup\")\n",
        "---------------------------------------------------------------------------\n",
        "if REPO_DIR.exists():\n",
        "    print(\"Removing:\", REPO_DIR)\n",
        "    # force-remove, ignore errors\n",
        "    subprocess.call([\"rm\", \"-rf\", str(REPO_DIR)])\n",
        "\n",
        "# sanity-check\n",
        "print(\"Exists after delete?\", REPO_DIR.exists())\n",
        "os.system(\"ls -la /content | head\")  # show /content root"
      ]
    },
    {
      "cell_type": "markdown",
      "metadata": {
        "id": "e_Vkz4SksOEd"
      },
      "source": [
        "#Web-Search SDK — End-to-End Demo\n",
        "\n",
        "Welcome!  This notebook shows how to install, configure, and use the **web-search-sdk** to pull public web signals in just a few lines of code.\n",
        "\n",
        "\n",
        "\n",
        "**What you can do here**\n",
        "1. 🌐 Search via DuckDuckGo (links, keywords, structured results)  \n",
        "2. 📰 Fetch fresh headlines with Google News RSS  \n",
        "3. 📝 Extract clean text from any article or URL\n",
        "4. 📚 Query knowledge bases (Wikipedia, RelatedWords)  \n",
        "5. 🛠️ Leverage utilities: tokenisation, rate-limiting, parallel scraping  \n",
        "6. 🔄 Combine everything into an easy and fast mini pipeline (search → extract → sentiment-ready text)\n",
        "\n",
        "<br>\n",
        "\n",
        "**How it works**\\\n",
        "• All helpers are **async** coroutines — use `await` or `asyncio.gather`.  \n",
        "• Network behaviour is controlled via a lightweight `ScraperContext`.  \n",
        "• For tricky sites the SDK auto-launches a stealth Playwright (and falls back to Selenium if needed).  \n",
        "• Results are returned as plain Python dicts / lists for immediate analysis.\n",
        "\n",
        "<br>\n",
        "\n",
        "**Quickstart**\n",
        "1. Run the next cell (“Environment Setup”) — it cleans the workspace, clones the latest repo version, installs the package and browser binaries.  \n",
        "2. Execute each demo section in order: **Search → News → Article Extraction → Knowledge Banks → Utilities**.  \n",
        "3. Use or adapt any cell for your own projects.\n",
        "\n",
        "<br>\n",
        "\n",
        "\n",
        "<small><i>Tip: set `OFFLINE_MODE=1` to run against fixture HTML only (CI / airplane mode).</i></small>"
      ]
    },
    {
      "cell_type": "markdown",
      "metadata": {
        "id": "tG2My_UQ6noY"
      },
      "source": [
        "# 🔧 Environment Setup\n",
        "This cell makes the notebook **stand-alone** when run on Colab or any fresh VM.\n",
        "It clones the repo (if missing) and installs the minimal Python packages\n",
        "required for the demo. Safe to re-run — it skips work if everything is ready.\n",
        "\n",
        " <https://github.com/Gregory-307/web-search-sdk>\n",
        "\n",
        "\n",
        "\n",
        "\n"
      ]
    },
    {
      "cell_type": "code",
      "execution_count": null,
      "metadata": {
        "colab": {
          "base_uri": "https://localhost:8080/"
        },
        "id": "c6UK6ZP66muK",
        "outputId": "f743f144-fee0-44fd-ab9a-5ba2b2fe28b2"
      },
      "outputs": [
        {
          "ename": "RuntimeError",
          "evalue": "❌ SAFETY CHECK FAILED: This notebook is NOT running in Google Colab!\n• Current working directory: c:\\Users\\gregb\\OneDrive\\Documents\\GitHub\\web-search-sdk\n• sys.modules contains google.colab: False\n• Environment variables: COLAB_GPU=None, COLAB_TPU=None\nRefusing to delete or modify any local files. This cell is for Colab only.",
          "output_type": "error",
          "traceback": [
            "\u001b[31m---------------------------------------------------------------------------\u001b[39m",
            "\u001b[31mRuntimeError\u001b[39m                              Traceback (most recent call last)",
            "\u001b[36mCell\u001b[39m\u001b[36m \u001b[39m\u001b[32mIn[3]\u001b[39m\u001b[32m, line 32\u001b[39m\n\u001b[32m     29\u001b[39m     \u001b[38;5;28;01mreturn\u001b[39;00m \u001b[38;5;28;01mFalse\u001b[39;00m\n\u001b[32m     31\u001b[39m \u001b[38;5;28;01mif\u001b[39;00m \u001b[38;5;129;01mnot\u001b[39;00m is_google_colab():\n\u001b[32m---> \u001b[39m\u001b[32m32\u001b[39m     \u001b[38;5;28;01mraise\u001b[39;00m \u001b[38;5;167;01mRuntimeError\u001b[39;00m(\n\u001b[32m     33\u001b[39m         \u001b[33m\"\u001b[39m\u001b[33m❌ SAFETY CHECK FAILED: This notebook is NOT running in Google Colab!\u001b[39m\u001b[38;5;130;01m\\n\u001b[39;00m\u001b[33m\"\u001b[39m\n\u001b[32m     34\u001b[39m         \u001b[33m\"\u001b[39m\u001b[33m• Current working directory: \u001b[39m\u001b[33m\"\u001b[39m + \u001b[38;5;28mstr\u001b[39m(pathlib.Path.cwd()) + \u001b[33m\"\u001b[39m\u001b[38;5;130;01m\\n\u001b[39;00m\u001b[33m\"\u001b[39m\n\u001b[32m     35\u001b[39m         \u001b[33m\"\u001b[39m\u001b[33m• sys.modules contains google.colab: \u001b[39m\u001b[33m\"\u001b[39m + \u001b[38;5;28mstr\u001b[39m(\u001b[33m\"\u001b[39m\u001b[33mgoogle.colab\u001b[39m\u001b[33m\"\u001b[39m \u001b[38;5;129;01min\u001b[39;00m sys.modules) + \u001b[33m\"\u001b[39m\u001b[38;5;130;01m\\n\u001b[39;00m\u001b[33m\"\u001b[39m\n\u001b[32m     36\u001b[39m         \u001b[33m\"\u001b[39m\u001b[33m• Environment variables: COLAB_GPU=\u001b[39m\u001b[33m\"\u001b[39m + \u001b[38;5;28mstr\u001b[39m(os.environ.get(\u001b[33m'\u001b[39m\u001b[33mCOLAB_GPU\u001b[39m\u001b[33m'\u001b[39m, \u001b[33m'\u001b[39m\u001b[33mNone\u001b[39m\u001b[33m'\u001b[39m)) + \n\u001b[32m     37\u001b[39m         \u001b[33m\"\u001b[39m\u001b[33m, COLAB_TPU=\u001b[39m\u001b[33m\"\u001b[39m + \u001b[38;5;28mstr\u001b[39m(os.environ.get(\u001b[33m'\u001b[39m\u001b[33mCOLAB_TPU\u001b[39m\u001b[33m'\u001b[39m, \u001b[33m'\u001b[39m\u001b[33mNone\u001b[39m\u001b[33m'\u001b[39m)) + \u001b[33m\"\u001b[39m\u001b[38;5;130;01m\\n\u001b[39;00m\u001b[33m\"\u001b[39m\n\u001b[32m     38\u001b[39m         \u001b[33m\"\u001b[39m\u001b[33mRefusing to delete or modify any local files. This cell is for Colab only.\u001b[39m\u001b[33m\"\u001b[39m\n\u001b[32m     39\u001b[39m     )\n\u001b[32m     41\u001b[39m \u001b[38;5;28mprint\u001b[39m(\u001b[33m\"\u001b[39m\u001b[33m✅ SAFETY CHECK PASSED: Running in Google Colab - proceeding with cleanup\u001b[39m\u001b[33m\"\u001b[39m)\n\u001b[32m     42\u001b[39m \u001b[38;5;66;03m# ---------------------------------------------------------------------------\u001b[39;00m\n\u001b[32m     43\u001b[39m \n\u001b[32m     44\u001b[39m \u001b[38;5;66;03m# 1) Hard-delete any previous checkout (shell rm -rf is the most reliable)\u001b[39;00m\n\u001b[32m   (...)\u001b[39m\u001b[32m     57\u001b[39m \n\u001b[32m     58\u001b[39m \u001b[38;5;66;03m# 3) Fresh clone\u001b[39;00m\n",
            "\u001b[31mRuntimeError\u001b[39m: ❌ SAFETY CHECK FAILED: This notebook is NOT running in Google Colab!\n• Current working directory: c:\\Users\\gregb\\OneDrive\\Documents\\GitHub\\web-search-sdk\n• sys.modules contains google.colab: False\n• Environment variables: COLAB_GPU=None, COLAB_TPU=None\nRefusing to delete or modify any local files. This cell is for Colab only."
          ]
        }
      ],
      "source": [
        "import subprocess, sys, pathlib, os, shutil, errno\n",
        "\n",
        "REPO_URL = \"https://github.com/Gregory-307/web-search-sdk.git\"\n",
        "REPO_DIR = pathlib.Path(\"/content/web-search-sdk\")   # explicit, avoids confusion\n",
        "\n",
        "# --- SAFETY GUARD: Multiple checks to ensure we're in Google Colab ---\n",
        "def is_google_colab():\n",
        "    \"\"\"Check if we're running in Google Colab environment\"\"\"\n",
        "    # Method 1: Check if google.colab module is available\n",
        "    try:\n",
        "        import google.colab\n",
        "        return True\n",
        "    except ImportError:\n",
        "        pass\n",
        "    \n",
        "    # Method 2: Check if google.colab is in sys.modules\n",
        "    if \"google.colab\" in sys.modules:\n",
        "        return True\n",
        "    \n",
        "    # Method 3: Check environment variables\n",
        "    import os\n",
        "    if os.environ.get('COLAB_GPU') or os.environ.get('COLAB_TPU'):\n",
        "        return True\n",
        "    \n",
        "    # Method 4: Check if we're in /content directory (Colab's working dir)\n",
        "    if str(pathlib.Path.cwd()).startswith('/content'):\n",
        "        return True\n",
        "    \n",
        "    return False\n",
        "\n",
        "if not is_google_colab():\n",
        "    raise RuntimeError(\n",
        "        \"❌ SAFETY CHECK FAILED: This notebook is NOT running in Google Colab!\\n\"\n",
        "        \"• Current working directory: \" + str(pathlib.Path.cwd()) + \"\\n\"\n",
        "        \"• sys.modules contains google.colab: \" + str(\"google.colab\" in sys.modules) + \"\\n\"\n",
        "        \"• Environment variables: COLAB_GPU=\" + str(os.environ.get('COLAB_GPU', 'None')) + \n",
        "        \", COLAB_TPU=\" + str(os.environ.get('COLAB_TPU', 'None')) + \"\\n\"\n",
        "        \"Refusing to delete or modify any local files. This cell is for Colab only.\"\n",
        "    )\n",
        "\n",
        "print(\"✅ SAFETY CHECK PASSED: Running in Google Colab - proceeding with cleanup\")\n",
        "# ---------------------------------------------------------------------------\n",
        "\n",
        "# 1) Hard-delete any previous checkout (shell rm -rf is the most reliable)\n",
        "if REPO_DIR.exists():\n",
        "    print(f\"Removing existing folder: {REPO_DIR}\")\n",
        "    subprocess.call([\"rm\", \"-rf\", str(REPO_DIR)])   # ignore errors\n",
        "\n",
        "# 2) Double-check and fall back to shutil (Windows attributes, etc.)\n",
        "try:\n",
        "    shutil.rmtree(REPO_DIR)\n",
        "except FileNotFoundError:\n",
        "    pass\n",
        "except OSError as e:  # read-only files edge-case\n",
        "    if e.errno != errno.ENOENT:\n",
        "        raise\n",
        "\n",
        "# 3) Fresh clone\n",
        "print(\"Cloning latest repo …\")\n",
        "subprocess.check_call([\"git\", \"clone\", \"--depth\", \"1\", REPO_URL, str(REPO_DIR)])\n",
        "\n",
        "ROOT = REPO_DIR.resolve()\n",
        "\n",
        "# 4) Remove any installed egg / wheel + pip cache\n",
        "subprocess.call([sys.executable, \"-m\", \"pip\", \"uninstall\", \"-y\", \"web-search-sdk\"],\n",
        "                stdout=subprocess.DEVNULL, stderr=subprocess.DEVNULL)\n",
        "subprocess.call([sys.executable, \"-m\", \"pip\", \"cache\", \"purge\"],\n",
        "                stdout=subprocess.DEVNULL, stderr=subprocess.DEVNULL)\n",
        "\n",
        "# 5) Clean install (editable) + Playwright + browser binaries\n",
        "subprocess.check_call([sys.executable, \"-m\", \"pip\", \"install\", \"-q\", \"--no-cache-dir\",\n",
        "                       \"-e\", f\"{ROOT}[browser]\"])\n",
        "subprocess.check_call([sys.executable, \"-m\", \"pip\", \"install\", \"-q\", \"playwright\"])\n",
        "subprocess.check_call([sys.executable, \"-m\", \"playwright\", \"install\", \"--with-deps\"],\n",
        "                      stdout=subprocess.DEVNULL)\n",
        "\n",
        "# 6) Ensure editable repo is first on sys.path\n",
        "if str(ROOT) not in sys.path:\n",
        "    sys.path.insert(0, str(ROOT))\n",
        "\n",
        "print(\"✅ Colab environment wiped & SDK re-installed\")"
      ]
    },
    {
      "cell_type": "markdown",
      "metadata": {
        "id": "A5_wEuoG6wuG"
      },
      "source": [
        "\n",
        "2  Quick Smoke Test\n",
        "\n",
        "Built-in `smoke_test.py` script runs without network access.\n",
        "**Expected output**: version string + globals dictionary showing imported SDK functions + smoke test results with top-tokens for \"openai\" (default term). This takes <2 s.\n"
      ]
    },
    {
      "cell_type": "code",
      "execution_count": null,
      "metadata": {
        "colab": {
          "base_uri": "https://localhost:8080/"
        },
        "collapsed": true,
        "id": "CRWApG2f6_9I",
        "outputId": "d8c76675-79cc-4b4a-f01a-aee0786ac71d"
      },
      "outputs": [
        {
          "name": "stdout",
          "output_type": "stream",
          "text": [
            "web_search_sdk version: 0.2.0\n"
          ]
        },
        {
          "ename": "FileNotFoundError",
          "evalue": "[Errno 2] No such file or directory: 'c:\\\\Users\\\\gregb\\\\OneDrive\\\\Documents\\\\GitHub\\\\web-search-sdk\\\\web-search-sdk\\\\smoke_test.py'",
          "output_type": "error",
          "traceback": [
            "\u001b[31m---------------------------------------------------------------------------\u001b[39m",
            "\u001b[31mFileNotFoundError\u001b[39m                         Traceback (most recent call last)",
            "\u001b[36mCell\u001b[39m\u001b[36m \u001b[39m\u001b[32mIn[5]\u001b[39m\u001b[32m, line 3\u001b[39m\n\u001b[32m      1\u001b[39m \u001b[38;5;28;01mimport\u001b[39;00m\u001b[38;5;250m \u001b[39m\u001b[34;01mrunpy\u001b[39;00m,\u001b[38;5;250m \u001b[39m\u001b[34;01mimportlib\u001b[39;00m\u001b[34;01m.\u001b[39;00m\u001b[34;01mmetadata\u001b[39;00m\u001b[38;5;250m \u001b[39m\u001b[38;5;28;01mas\u001b[39;00m\u001b[38;5;250m \u001b[39m\u001b[34;01mmd\u001b[39;00m,\u001b[38;5;250m \u001b[39m\u001b[34;01mpathlib\u001b[39;00m\n\u001b[32m      2\u001b[39m \u001b[38;5;28mprint\u001b[39m(\u001b[33m\"\u001b[39m\u001b[33mweb_search_sdk version:\u001b[39m\u001b[33m\"\u001b[39m, md.version(\u001b[33m\"\u001b[39m\u001b[33mweb-search-sdk\u001b[39m\u001b[33m\"\u001b[39m))\n\u001b[32m----> \u001b[39m\u001b[32m3\u001b[39m \u001b[43mrunpy\u001b[49m\u001b[43m.\u001b[49m\u001b[43mrun_path\u001b[49m\u001b[43m(\u001b[49m\u001b[38;5;28;43mstr\u001b[39;49m\u001b[43m(\u001b[49m\u001b[43m(\u001b[49m\u001b[43mpathlib\u001b[49m\u001b[43m.\u001b[49m\u001b[43mPath\u001b[49m\u001b[43m.\u001b[49m\u001b[43mcwd\u001b[49m\u001b[43m(\u001b[49m\u001b[43m)\u001b[49m\u001b[43m \u001b[49m\u001b[43m/\u001b[49m\u001b[43m \u001b[49m\u001b[33;43m\"\u001b[39;49m\u001b[33;43mweb-search-sdk\u001b[39;49m\u001b[33;43m\"\u001b[39;49m\u001b[43m \u001b[49m\u001b[43m/\u001b[49m\u001b[43m \u001b[49m\u001b[33;43m\"\u001b[39;49m\u001b[33;43msmoke_test.py\u001b[39;49m\u001b[33;43m\"\u001b[39;49m\u001b[43m)\u001b[49m\u001b[43m)\u001b[49m\u001b[43m)\u001b[49m\n",
            "\u001b[36mFile \u001b[39m\u001b[32m<frozen runpy>:286\u001b[39m, in \u001b[36mrun_path\u001b[39m\u001b[34m(path_name, init_globals, run_name)\u001b[39m\n",
            "\u001b[36mFile \u001b[39m\u001b[32m<frozen runpy>:254\u001b[39m, in \u001b[36m_get_code_from_file\u001b[39m\u001b[34m(fname)\u001b[39m\n",
            "\u001b[31mFileNotFoundError\u001b[39m: [Errno 2] No such file or directory: 'c:\\\\Users\\\\gregb\\\\OneDrive\\\\Documents\\\\GitHub\\\\web-search-sdk\\\\web-search-sdk\\\\smoke_test.py'"
          ]
        }
      ],
      "source": [
        "import runpy, importlib.metadata as md, pathlib\n",
        "print(\"web_search_sdk version:\", md.version(\"web-search-sdk\"))\n",
        "runpy.run_path(str((pathlib.Path.cwd() / 'smoke_test.py')))"
      ]
    },
    {
      "cell_type": "markdown",
      "metadata": {
        "id": "e94dae6c"
      },
      "source": [
        "# SDK Functionality Cheetsheet\n",
        "\n",
        "`ScraperContext` is the _single_ configuration object shared by every helper\n",
        "in the SDK. You pass it for every function.\n",
        "\n",
        "It controls:\n",
        "- Browser usage: When to use Selenium/Playwright vs plain HTTP requests (requests often fail still)\n",
        "- Network settings like timeouts or retry attempts\n",
        "- Identity management: Custom User-Agent rotation, proxy support\n",
        "- Debugging: Verbose logging for troubleshooting\n",
        "\n",
        "The cell below instantiates three ready-made contexts to reuse in later\n",
        "examples. Th\n",
        "\n"
      ]
    },
    {
      "cell_type": "code",
      "execution_count": null,
      "metadata": {
        "id": "kYlRGjB5wvHR"
      },
      "outputs": [],
      "source": [
        "from web_search_sdk.scrapers.base import ScraperContext\n",
        "\n",
        "ctx = ScraperContext()\n",
        "\n",
        "# When you call ScraperContext() with no arguments, you get these defaults:\n",
        "# - timeout: 20.0\n",
        "# - retries: 2\n",
        "# - use_browser: False\n",
        "# - browser_type: \"selenium\"\n",
        "# - debug: False\n",
        "# - headers: {}\n",
        "# - user_agents: None\n",
        "# - proxy: None"
      ]
    },
    {
      "cell_type": "markdown",
      "metadata": {
        "id": "KHpiWuAEwwHa"
      },
      "source": [
        "## Custom examples (skip this section if not important)"
      ]
    },
    {
      "cell_type": "code",
      "execution_count": null,
      "metadata": {
        "colab": {
          "base_uri": "https://localhost:8080/"
        },
        "id": "5c959745",
        "outputId": "26575757-b60d-432c-eac1-4c364ffce1ae"
      },
      "outputs": [
        {
          "name": "stdout",
          "output_type": "stream",
          "text": [
            "=== HTTP Context ===\n",
            "Browser: False\n",
            "Timeout: 30.0s\n",
            "Retries: 3\n",
            "Debug: True\n",
            "\n",
            "=== Selenium Context ===\n",
            "Browser: True (selenium)\n",
            "Timeout: 45.0s\n",
            "Retries: 2\n",
            "Proxy: http://proxy.example.com:8080\n",
            "\n",
            "=== Playwright Stealth Context ===\n",
            "Browser: True (playwright_stealth)\n",
            "Timeout: 60.0s\n",
            "Retries: 1\n",
            "Custom headers: 3 headers\n"
          ]
        }
      ],
      "source": [
        "# 1. HTTP-only context (fastest, most basic)\n",
        "ctx_http = ScraperContext(\n",
        "    debug=True,                    # Show HTTP requests in console\n",
        "    timeout=30.0,                  # 30 second timeout\n",
        "    retries=3,                     # Retry failed requests 3 times\n",
        "    user_agents=[\"Mozilla/5.0 (Windows NT 10.0; Win64; x64) AppleWebKit/537.36\"]  # Custom UA\n",
        ")\n",
        "\n",
        "# 2. Selenium context (reliable, slower, good for simple sites)\n",
        "ctx_selen = ScraperContext(\n",
        "    use_browser=True,              # Enable browser fallback\n",
        "    browser_type=\"selenium\",       # Use Firefox via Selenium\n",
        "    debug=True,                    # Show browser actions\n",
        "    timeout=45.0,                  # Longer timeout for browser\n",
        "    retries=2,                     # Fewer retries (browser is expensive)\n",
        "    proxy=\"http://proxy.example.com:8080\"  # Optional proxy\n",
        ")\n",
        "\n",
        "# 3. Playwright stealth context (best for CAPTCHA-heavy sites)\n",
        "ctx_play = ScraperContext(\n",
        "    use_browser=True,              # Enable browser fallback\n",
        "    browser_type=\"playwright_stealth\",  # Chromium with anti-bot patches\n",
        "    debug=True,                    # Show browser actions\n",
        "    timeout=60.0,                  # Longest timeout (stealth takes time)\n",
        "    retries=1,                     # Minimal retries (very expensive)\n",
        "    headers={                      # Custom headers for stealth\n",
        "        \"Accept-Language\": \"en-US,en;q=0.9\",\n",
        "        \"Accept-Encoding\": \"gzip, deflate, br\",\n",
        "        \"DNT\": \"1\"\n",
        "    }\n",
        ")\n",
        "\n",
        "# Display the contexts to see their configurations\n",
        "print(\"=== HTTP Context ===\")\n",
        "print(f\"Browser: {ctx_http.use_browser}\")\n",
        "print(f\"Timeout: {ctx_http.timeout}s\")\n",
        "print(f\"Retries: {ctx_http.retries}\")\n",
        "print(f\"Debug: {ctx_http.debug}\")\n",
        "\n",
        "print(\"\\n=== Selenium Context ===\")\n",
        "print(f\"Browser: {ctx_selen.use_browser} ({ctx_selen.browser_type})\")\n",
        "print(f\"Timeout: {ctx_selen.timeout}s\")\n",
        "print(f\"Retries: {ctx_selen.retries}\")\n",
        "print(f\"Proxy: {ctx_selen.proxy}\")\n",
        "\n",
        "print(\"\\n=== Playwright Stealth Context ===\")\n",
        "print(f\"Browser: {ctx_play.use_browser} ({ctx_play.browser_type})\")\n",
        "print(f\"Timeout: {ctx_play.timeout}s\")\n",
        "print(f\"Retries: {ctx_play.retries}\")\n",
        "print(f\"Custom headers: {len(ctx_play.headers)} headers\")"
      ]
    },
    {
      "cell_type": "markdown",
      "metadata": {
        "id": "9392057b"
      },
      "source": [
        "# Main Menu\n",
        "---\n",
        "\n",
        "### 🌐 [Search](#scrollTo=jjvjnyumbsZM)\n",
        "- **DuckDuckGo Search** – primary search engine (reliable, no CAPTCHA)  \n",
        "  ```python\n",
        "  ddg_result = await ddg_search_and_parse(\"bitcoin rally\")\n",
        "\n",
        "  ddg_result[\"links\"]       → list of links\n",
        "  ddg_result[\"top_words\"]   → most-frequent words\n",
        "  ddg_result[\"results\"]     → list of dicts (title, snippet, url, source)\n",
        "\n",
        "  raw_html = await ddg_search_raw(\"bitcoin rally\")   # BeautifulSoup object\n",
        "  ```\n",
        "- ~~**Google Search** – alternative engine (may hit CAPTCHA)~~ *(currently disabled)*  \n",
        "  ~~`google_web_top_words(\"bitcoin\")`~~\n",
        "\n",
        "### 📰 [News](#scrollTo=VxoJ-ejpHnC8)\n",
        "- **Google News**  \n",
        "  ```python\n",
        "  news_result = await google_news(\"bitcoin\")\n",
        "\n",
        "  news_result[\"headlines\"]  → list of headlines\n",
        "  news_result[\"summaries\"]  → list of summaries\n",
        "  news_result[\"sources\"]    → list of sources\n",
        "  news_result[\"top_words\"]  → keyword frequency\n",
        "\n",
        "  raw_rss = await google_news_raw(\"bitcoin\")   # raw RSS string\n",
        "  ```\n",
        "\n",
        "### 📝 [Content Extraction](#scrollTo=lqWHXXfmJbLa)\n",
        "- **Content Extraction (for articles with no paywall)**  \n",
        "  ```python\n",
        "  article = await extract_article_content(\"https://example.com/article\")\n",
        "\n",
        "  article[\"title\"]         → article title\n",
        "  article[\"content\"]       → clean text\n",
        "  article[\"summary\"]       → short summary\n",
        "  article[\"author\"]        → author name\n",
        "  article[\"publish_date\"]  → YYYY-MM-DD\n",
        "  article[\"source\"]        → site name\n",
        "  ```\n",
        "\n",
        "### 📚 [Knowledge Banks](#scrollTo=IZjJWe84ITeo)\n",
        "- **Wikipedia**  \n",
        "  ```python\n",
        "  wiki = await wikipedia(\"bitcoin\")\n",
        "\n",
        "  wiki[\"title\"]       → page title\n",
        "  wiki[\"content\"]     → full article text\n",
        "  wiki[\"links\"]       → internal links\n",
        "  wiki[\"top_words\"]   → frequent words\n",
        "\n",
        "  raw_html = await wikipedia_raw(\"bitcoin\")   # raw HTML string\n",
        "  ```\n",
        "- **RelatedWords.org**  \n",
        "  ```python\n",
        "  words = await related_words(\"bitcoin\")   # returns list[str]\n",
        "  ```\n",
        "\n",
        "<br>\n",
        "\n",
        "### Additional Functionality\n",
        "\n",
        "#### 🛠️ [Utilities & Pipeline](#scrollTo=sXKJQCV9IUia)\n",
        "- Text helpers: `tokenise()`, `remove_stopwords()`, `most_common()`  \n",
        "- Output helpers: `to_json()`, `to_csv()`  \n",
        "- Rate limiting: `@rate_limited` decorator  \n",
        "- Parallel scraping: `gather_scrapers()`\n",
        "\n",
        "#### 💹 Financial Data\n",
        "- **Stock Information**  \n",
        "  ```python\n",
        "  stock = await fetch_stock_data(\"AAPL\")\n",
        "\n",
        "  stock[\"ohlcv\"]   → OHLCV via yfinance\n",
        "  stock[\"info\"]    → company info\n",
        "  ```\n",
        "\n",
        "#### 📊 Trends & Analytics\n",
        "- **Google Trends** *(deprecated – migrate to trends-sdk)*  \n",
        "  ```python\n",
        "  trends = await interest_over_time(\"bitcoin\")\n",
        "\n",
        "  trends[\"values\"]  → trend values\n",
        "  trends[\"dates\"]   → corresponding dates\n",
        "  ```\n",
        "\n",
        "  ```python\n",
        "  batch = await batch_interest_over_time([\"btc\", \"eth\"])\n",
        "\n",
        "  batch[\"results\"]  → trends for multiple terms\n",
        "  ```\n",
        "\n",
        "---\n",
        "\n",
        "Each function accepts an optional `ScraperContext` for custom headers, proxies, browser fallback, etc.  \n",
        "The examples above rely on the built-in defaults, so you can run them as-is."
      ]
    },
    {
      "cell_type": "markdown",
      "metadata": {
        "id": "AdI5Rto6IJsE"
      },
      "source": [
        "# Demo Examples"
      ]
    },
    {
      "cell_type": "markdown",
      "metadata": {
        "id": "jjvjnyumbsZM"
      },
      "source": [
        "\n",
        "\n",
        "## 🌐 Search\n",
        "\n",
        "#### DuckDuckGo Search Functions\n",
        "\n",
        "1 Linear (single query)"
      ]
    },
    {
      "cell_type": "code",
      "execution_count": null,
      "metadata": {
        "colab": {
          "base_uri": "https://localhost:8080/"
        },
        "id": "1Zgo4_MVFSkB",
        "outputId": "fc938b78-46fc-4d17-817c-4e2337144831"
      },
      "outputs": [
        {
          "name": "stdout",
          "output_type": "stream",
          "text": [
            "Links:\n",
            "https://www.thestreet.com/crypto/markets/bitcoin-experts-explain-why-its-set-to-rally-to-200000-this-year\n",
            "https://www.benzinga.com/crypto/cryptocurrency/25/07/46345201/bitcoins-rally-to-112000-yes-its-different-this-time\n",
            "https://www.businessinsider.com/bitcoin-price-today-why-is-btc-up-crypto-week-etfs-2025-7?op=1\n",
            "https://cointelegraph.com/news/bitcoin-price-likely-to-hit-dollar130k-before-serious-profit-taking-kicks-in\n",
            "https://www.marketwatch.com/story/bitcoin-hits-record-high-why-the-cryptos-rally-may-lose-steam-after-briefly-topping-112-000-00941186\n",
            "Top words: ['bitcoin', 'rally', 'high', 'crypto', 'time']\n",
            "First title: Bitcoin experts explain why it's set to rally to $200,000 this year\n"
          ]
        }
      ],
      "source": [
        "from web_search_sdk.scrapers.duckduckgo_enhanced import ddg_search_and_parse\n",
        "\n",
        "ddg_result = await ddg_search_and_parse(\"bitcoin rally\", top_n=5)\n",
        "\n",
        "print(\"Links:\\n\" + \"\\n\".join(ddg_result[\"links\"]))\n",
        "print(\"Top words:\", ddg_result[\"top_words\"])\n",
        "print(\"First title:\", ddg_result[\"results\"][0][\"title\"] if ddg_result[\"results\"] else \"none\")\n",
        "\n",
        "\n",
        "# Result objects look like:\n",
        "# {\n",
        "#     'title'  : 'Bitcoin hits fresh high as ...',\n",
        "#     'snippet': 'The cryptocurrency surged past ...',\n",
        "#     'url'    : 'https://www.cnbc.com/...',\n",
        "#     'source' : 'CNBC'\n",
        "# }\n",
        "\n",
        "\n",
        "# top_n defaults to 10; it the hard max on *all* three lists\n",
        "#   • links\n",
        "#   • top_words\n",
        "#   • results\n",
        "# (functionality will change to be independant)"
      ]
    },
    {
      "cell_type": "markdown",
      "metadata": {
        "id": "inZO96ulGzSM"
      },
      "source": [
        "2 Async (two queries in parallel)"
      ]
    },
    {
      "cell_type": "code",
      "execution_count": null,
      "metadata": {
        "colab": {
          "base_uri": "https://localhost:8080/"
        },
        "id": "moAIRADdGp1y",
        "outputId": "cce1fbed-3545-4514-a204-29893aad8249"
      },
      "outputs": [
        {
          "name": "stdout",
          "output_type": "stream",
          "text": [
            "\n",
            "BITCOIN RALLY\n",
            "Links: ['https://www.benzinga.com/crypto/cryptocurrency/25/07/46345201/bitcoins-rally-to-112000-yes-its-different-this-time', 'https://www.usatoday.com/story/money/investing/2025/07/15/bitcoin-2025-surge-will-keep-going/85187579007/', 'https://www.businessinsider.com/bitcoin-price-today-why-is-btc-up-crypto-week-etfs-2025-7?op=1', 'https://www.thestreet.com/crypto/markets/bitcoin-experts-explain-why-its-set-to-rally-to-200000-this-year', 'https://cointelegraph.com/news/bitcoin-price-likely-to-hit-dollar130k-before-serious-profit-taking-kicks-in']\n",
            "Top words: ['bitcoin', 'rally', 'time', 'crypto', 'year']\n",
            "\n",
            "ETHEREUM FUTURES\n",
            "Links: ['https://www.cmegroup.com/markets/cryptocurrencies/ether/ether.html', 'https://www.investing.com/crypto/ethereum/ether-futures', 'https://www.tradingview.com/symbols/CME-ETH1!/', 'https://www.binance.com/en/futures/etH_USDT', 'https://www.coinbase.com/advanced-trade/crypto-futures']\n",
            "Top words: ['futures', 'ether', 'trade', 'crypto', 'overview']\n"
          ]
        }
      ],
      "source": [
        "# %% DuckDuckGo – async / parallel example\n",
        "import asyncio\n",
        "from web_search_sdk.scrapers.duckduckgo_enhanced import ddg_search_and_parse\n",
        "\n",
        "terms = [\"bitcoin rally\", \"ethereum futures\"]\n",
        "\n",
        "results = await asyncio.gather(*(ddg_search_and_parse(t, top_n=5) for t in terms))\n",
        "\n",
        "for term, res in zip(terms, results):\n",
        "    print(f\"\\n{term.upper()}\")\n",
        "    print(\"Links:\", res[\"links\"])\n",
        "    print(\"Top words:\", res[\"top_words\"])"
      ]
    },
    {
      "cell_type": "markdown",
      "metadata": {
        "id": "9kzapDVWHCYc"
      },
      "source": [
        "3 Custom context and raw html\n",
        "\n",
        "Configure contexts if you need (not necessary but allows for customisation).\\\n",
        "Each function has it's own default ctx (that I have tuned to work but that may change over time).\n",
        "```\n",
        "ddg_search_and_parse()'s default is this:\n",
        "\n",
        "   ctx = ScraperContext(\n",
        "      use_browser=False,   # plain HTTP, no browser fallback\n",
        "      headers={},          # no custom headers (UA added internally)\n",
        "      timeout=20.0,        # seconds\n",
        "      retries=2,           # retry count on failures\n",
        "      proxy=None,          # no proxy\n",
        "      debug=False,         # quiet mode\n",
        "      browser_type=\"selenium\"  # ignored unless use_browser=True\n",
        "  )\n",
        "```\n",
        "\n"
      ]
    },
    {
      "cell_type": "code",
      "execution_count": null,
      "metadata": {
        "colab": {
          "base_uri": "https://localhost:8080/"
        },
        "id": "w7oUVYQaBtsb",
        "outputId": "4049d677-1c7b-46ee-b4f1-302306230bf5"
      },
      "outputs": [
        {
          "name": "stdout",
          "output_type": "stream",
          "text": [
            "💡 Tip: ddg_search_and_parse works fine with HTTP context (faster). Browser context is optional.\n"
          ]
        },
        {
          "name": "stderr",
          "output_type": "stream",
          "text": [
            "{\"url\": \"https://html.duckduckgo.com/html/?q=openai%20gpt-4&kl=us-en\", \"event\": \"http_get\", \"timestamp\": \"2025-07-17T15:26:08.233009Z\"}\n",
            "HTTP Request: GET https://html.duckduckgo.com/html/?q=openai%20gpt-4&kl=us-en \"HTTP/1.1 200 OK\"\n"
          ]
        },
        {
          "name": "stdout",
          "output_type": "stream",
          "text": [
            "💡 Tip: ddg_search_raw works fine with HTTP context (faster). Browser context is optional.\n"
          ]
        },
        {
          "name": "stderr",
          "output_type": "stream",
          "text": [
            "{\"url\": \"https://html.duckduckgo.com/html/?q=openai%20gpt-4&kl=us-en\", \"event\": \"http_get\", \"timestamp\": \"2025-07-17T15:26:10.658014Z\"}\n"
          ]
        }
      ],
      "source": [
        "# %% DuckDuckGo – custom context + raw HTML\n",
        "from web_search_sdk.scrapers.base import ScraperContext\n",
        "from web_search_sdk.scrapers.duckduckgo_enhanced import (\n",
        "    ddg_search_and_parse,\n",
        "    ddg_search_raw,\n",
        ")\n",
        "\n",
        "\n",
        "# Custom tweeks to config:\n",
        "ctx = ScraperContext(\n",
        "    use_browser=True,\n",
        "    browser_type=\"playwright_stealth\",\n",
        "    timeout=40,\n",
        "    debug=True,\n",
        ")\n",
        "\n",
        "structured = await ddg_search_and_parse(\"openai gpt-4\", ctx=ctx, top_n=3)\n",
        "raw_soup   = await ddg_search_raw(\"openai gpt-4\", ctx=ctx)\n",
        "\n",
        "print(\"Structured links:\", structured[\"links\"])\n",
        "print(\"Raw HTML length:\", len(raw_soup.prettify()))"
      ]
    },
    {
      "cell_type": "markdown",
      "metadata": {
        "id": "VxoJ-ejpHnC8"
      },
      "source": [
        "<br>\n",
        "\n",
        "## 📰 News\n"
      ]
    },
    {
      "cell_type": "markdown",
      "metadata": {
        "id": "pJC153dRJBzL"
      },
      "source": [
        "1 Google News – linear (single query)\n"
      ]
    },
    {
      "cell_type": "code",
      "execution_count": null,
      "metadata": {
        "colab": {
          "base_uri": "https://localhost:8080/"
        },
        "id": "NEnNjc79JAVo",
        "outputId": "8fae34ef-a10c-461e-b9f8-19fac054026c"
      },
      "outputs": [
        {
          "name": "stdout",
          "output_type": "stream",
          "text": [
            "Headlines:\n",
            "  - Why is the price of bitcoin hitting a record high? Experts explain. - ABC News - Breaking News, Latest News and Videos\n",
            "  - Ether is starting to outperform bitcoin – and further gains could be ahead for the crypto, charts show - CNBC\n",
            "  - Asia Morning Briefing: Bitcoin Eyes $130K as Euphoria Builds, But ETH and SOL Steal the Show - CoinDesk\n",
            "  - Bitcoin, ETH, XRP, Solana Are In For A 'Long And Exhausting Bull Market,' Bernstein Predicts - Yahoo Finance\n",
            "  - Cantor Fitzgerald close to $4bn Spac deal with bitcoin pioneer - Financial Times\n",
            "\n",
            "Top words: ['nbsp', 'font', 'news', 'bitcoin', 'href']\n",
            "\n",
            "Example record:\n",
            "{'headline': 'Why is the price of bitcoin hitting a record high? Experts explain. - ABC News - Breaking News, Latest News and Videos', 'summary': '<ol><li><a href=\"https://news.google.com/rss/articles/CBMiogFBVV95cUxPTjdZN0JTR1JudW5iUFBqTklxclJsQ1cwY0xvWnMxUmdYSFkwRWlRMjEwUTdSUnFFNDd3OWV0MlQ5TTFFZDRpWkVtNXZzOG8tb3V1eGl4VXhyT0FxeTZIck5iNkw4RFpuRzZxMzQ5MlRQaXcwUkxiTjQyaDdQdEM1TmVWQ0NFM2tnRUwwZXc4cE5PZUJQZnFtSUlTOWx0cVY4OHfSAacBQVVfeXFMTThFWFlyT05pb21FREpyLVRFdmdDQTI4TnF4ajVQTjBNZ0Z4YVZzSmFINWlGeXlmN0doYlVsanJwLXVDTE5reGdHY3RHYzlLaGdJMHZDdkxNdElfdnlqbUszU3YtdC1EaWMyMUxrbEIyUnU0OXEwbGxxa3pueHFxVVNRMkN0ZHlGZ3B1VnU5MFNfWGtlOE9yamVGVHNXaUlzcFNpeGI0ZnM?oc=5\" target=\"_blank\">Why is the price of bitcoin hitting a record high? Experts explain.</a>&nbsp;&nbsp;<font color=\"#6f6f6f\">ABC News - Breaking News, Latest News and Videos</font></li><li><a href=\"https://news.google.com/rss/articles/CBMiiAFBVV95cUxPN1NhdFZtQ0Vqd2QwR0tjeGFTVGNJbURKZFNmNVRqNXR2VXkwWVMxTnBtaUlYem8tZzM3UXhSTVBzQ19OWFhuR2d2STBoNjdzc2RPNGt5Mi16ajlzUUZxUFVFbHFNTmFfUHg0cGdpenpIeFhMeDI1SmVoalVYbFBvX21HUU85V0RR?oc=5\" target=\"_blank\">Bitcoin Price Falls. But These Altcoins Soar as Crypto Bills Move Through Congress.</a>&nbsp;&nbsp;<font color=\"#6f6f6f\">Barron\\'s</font></li><li><a href=\"https://news.google.com/rss/articles/CBMirgFBVV95cUxQeXQ5b1AzUTlWTVl6ZnNld25zNXhxSnlGUkllU2dKVmRwZ2FlS0RVM0FCWUJDXzA1QjdQQkgyNHZnQndZQ1Y1QmdmOU1FME5CZWpBcVhSd29fLV9JQTZWSzJEX19XQ09YOEh5bEVWTUUzTFZqN1J2WERaTVVHLWZUbjNhOWpHQXQ3NXkxeG5pLVQ1eXY5ZjJ1NmZkRjJ0NXRmWTFmMjE0b21kcklEMUHSAbMBQVVfeXFMT2J1LXpsbGU0WWFkT0o0cy0yNGNMazR1c2F5Qk9QaUljWlZ2TGlORGJvRm5LaGpiNUZMWk1XX3hmUVgzUHJlcGVoSWlxU0tXWF9oZ21xNHlqOGg5dExqRVlpQTdqMXgxNjZQSjZ2cTRzakljek01ZWN1OFlCamJkalVQckppQmdSYmdoV3JuQXc2M1Q4T3lVckRsemNEUjRnYU1adWVvNGtTc1dVa25OdXFpVE0?oc=5\" target=\"_blank\">Bitcoin breaks $123,000 price record as lawmakers begin \\'Crypto Week\\' in Washington</a>&nbsp;&nbsp;<font color=\"#6f6f6f\">Fox Business</font></li></ol>', 'source': 'ABC News - Breaking News, Latest News and Videos'}\n"
          ]
        }
      ],
      "source": [
        "from web_search_sdk.scrapers.news import google_news\n",
        "\n",
        "news = await google_news(\"bitcoin\", top_n=5)   # top_n=20 by default\n",
        "\n",
        "print(\"Headlines:\")\n",
        "for h in news[\"headlines\"]:\n",
        "    print(\"  -\", h)\n",
        "\n",
        "print(\"\\nTop words:\", news[\"top_words\"])\n",
        "\n",
        "# Show the first structured item so users understand the shape\n",
        "if news[\"headlines\"]:\n",
        "    print(\"\\nExample record:\")\n",
        "    print({\n",
        "        \"headline\" : news[\"headlines\"][0],\n",
        "        \"summary\"  : news[\"summaries\"][0],\n",
        "        \"source\"   : news[\"sources\"][0]\n",
        "    })"
      ]
    },
    {
      "cell_type": "markdown",
      "metadata": {
        "id": "aTofwVX9JK3h"
      },
      "source": [
        "2 Google News – async (two queries in parallel)\n"
      ]
    },
    {
      "cell_type": "code",
      "execution_count": null,
      "metadata": {
        "colab": {
          "base_uri": "https://localhost:8080/"
        },
        "id": "e55xAkiuJL8V",
        "outputId": "b79a2bbf-748c-4d9e-c3cf-665cc45ef35d"
      },
      "outputs": [
        {
          "name": "stdout",
          "output_type": "stream",
          "text": [
            "\n",
            "BITCOIN\n",
            "Headlines:\n",
            "  - Why is the price of bitcoin hitting a record high? Experts explain. - ABC News - Breaking News, Latest News and Videos\n",
            "  - Ether is starting to outperform bitcoin – and further gains could be ahead for the crypto, charts show - CNBC\n",
            "  - Asia Morning Briefing: Bitcoin Eyes $130K as Euphoria Builds, But ETH and SOL Steal the Show - CoinDesk\n",
            "  - Bitcoin, ETH, XRP, Solana Are In For A 'Long And Exhausting Bull Market,' Bernstein Predicts - Yahoo Finance\n",
            "  - Cantor Fitzgerald close to $4bn Spac deal with bitcoin pioneer - Financial Times\n",
            "Top words: ['nbsp', 'font', 'news', 'bitcoin', 'href']\n",
            "\n",
            "ETHEREUM\n",
            "Headlines:\n",
            "  - ETH rises above $3,300 as spot Ethereum ETFs post record $726 million in daily net inflows - The Block\n",
            "  - SEC Delays Decision on Bitwise Bitcoin, Ethereum ETFs' In-kind Redemptions - Decrypt\n",
            "  - Ethereum ETFs attract record $726 million, pushing ETH price above $3,400 - CryptoSlate\n",
            "  - Beyond Bitcoin: Ethereum as a Corporate Treasury Asset - galaxy.com\n",
            "  - Peter Thiel Is Betting Big on This Ethereum Treasury Stock. Should You Buy Shares Now? - Yahoo Finance\n",
            "Top words: ['nbsp', 'font', 'ethereum', 'com', 'href']\n"
          ]
        }
      ],
      "source": [
        "import asyncio\n",
        "from web_search_sdk.scrapers.news import google_news\n",
        "\n",
        "terms = [\"bitcoin\", \"ethereum\"]\n",
        "\n",
        "results = await asyncio.gather(*(google_news(t, top_n=5) for t in terms))\n",
        "\n",
        "for term, res in zip(terms, results):\n",
        "    print(f\"\\n{term.upper()}\")\n",
        "    print(\"Headlines:\")\n",
        "    for h in res[\"headlines\"]:\n",
        "        print(\"  -\", h)\n",
        "    print(\"Top words:\", res[\"top_words\"])"
      ]
    },
    {
      "cell_type": "markdown",
      "metadata": {
        "id": "lqWHXXfmJbLa"
      },
      "source": [
        "<br>\n",
        "\n",
        "## 📝 Content Extraction\n"
      ]
    },
    {
      "cell_type": "markdown",
      "metadata": {
        "id": "leChgo0uJT51"
      },
      "source": [
        "1 Article Extraction – linear (single URL)\n"
      ]
    },
    {
      "cell_type": "code",
      "execution_count": null,
      "metadata": {
        "colab": {
          "base_uri": "https://localhost:8080/"
        },
        "id": "xY-zu1TyJVyi",
        "outputId": "955cb053-ca17-4110-d51a-35201225c7fa"
      },
      "outputs": [
        {
          "name": "stdout",
          "output_type": "stream",
          "text": [
            "[browser:PW] GET https://www.cnbc.com/2025/07/14/bitcoin-hits-new-all-time-high-above-120000-fueled-by-etf-inflows-crypto.html\n",
            "Title  : Bitcoin hits new high above $120,000 as U.S. lawmakers begin ‘Crypto Week’\n",
            "Source : CNBC\n",
            "Summary: Representations of Bitcoins resting on U.S…\n",
            "\n",
            "First 300 chars of content:\n",
            " Representations of Bitcoins resting on U.S. dollar banknotes Maeva Destombes | Afp | Getty Images Bitcoin traded above $120,000 to set a new record high on Monday as U.S. lawmakers gear up to potentially pass regulatory changes that could bolster institutional demand. The largest cryptocurrency by m …\n"
          ]
        }
      ],
      "source": [
        "from web_search_sdk.scrapers.base import ScraperContext\n",
        "from web_search_sdk.scrapers import extract_article_content\n",
        "\n",
        "url = \"https://www.cnbc.com/2025/07/14/bitcoin-hits-new-all-time-high-above-120000-fueled-by-etf-inflows-crypto.html\"\n",
        "\n",
        "ctx = ScraperContext(\n",
        "    use_browser=True,\n",
        "    browser_type=\"playwright_stealth\",\n",
        "    timeout=40,\n",
        "    debug=True,\n",
        ")\n",
        "\n",
        "article = await extract_article_content(url, ctx=ctx)\n",
        "\n",
        "if article.get(\"error\"):\n",
        "    print(\"❌ Extraction failed:\", article[\"error\"])\n",
        "else:\n",
        "    print(\"Title  :\", article[\"title\"])\n",
        "    print(\"Source :\", article[\"source\"])\n",
        "    print(\"Summary:\", article[\"summary\"][:150] + \"…\")\n",
        "    print(\"\\nFirst 300 chars of content:\\n\", article[\"content\"][:300], \"…\")"
      ]
    },
    {
      "cell_type": "markdown",
      "metadata": {
        "id": "7HhuawmwKSRg"
      },
      "source": [
        "2 Article Extraction – async (two URLs in parallel)\n",
        "\n",
        "**FYI: Bloomberg is paywalled and will detect this traffic, it will always fail.\n",
        "Please see here as an example.**"
      ]
    },
    {
      "cell_type": "code",
      "execution_count": null,
      "metadata": {
        "colab": {
          "base_uri": "https://localhost:8080/"
        },
        "id": "CC4074I-KVpj",
        "outputId": "cd0740b6-d979-440c-b532-c9f4719e5c01"
      },
      "outputs": [
        {
          "name": "stderr",
          "output_type": "stream",
          "text": [
            "WARNING:ArticleExtractor:{\"url\": \"https://www.bloomberg.com/news/articles/2025-07-14/ethereum-jumps-as-upgrade-optimism-builds\", \"error\": \"Client error '404 Not Found' for url 'https://www.bloomberg.com/news/articles/2025-07-14/ethereum-jumps-as-upgrade-optimism-builds'\\nFor more information check: https://developer.mozilla.org/en-US/docs/Web/HTTP/Status/404\", \"event\": \"http_failed\", \"timestamp\": \"2025-07-17T13:51:30.832663Z\"}\n"
          ]
        },
        {
          "name": "stdout",
          "output_type": "stream",
          "text": [
            "[browser:PW] GET https://www.cnbc.com/2025/07/14/bitcoin-hits-new-all-time-high-above-120000-fueled-by-etf-inflows-crypto.html\n",
            "[browser:PW] GET https://www.bloomberg.com/news/articles/2025-07-14/ethereum-jumps-as-upgrade-optimism-builds\n",
            "\n",
            "--- CNBC ---\n",
            "Title : Bitcoin hits new high above $120,000 as U.S. lawmakers begin ‘Crypto Week’\n",
            "Chars : 3430\n",
            "\n",
            "--- BLOOMBERG ---\n",
            "Title : Bloomberg - Are you a robot?\n",
            "Chars : 597\n"
          ]
        }
      ],
      "source": [
        "import asyncio\n",
        "from web_search_sdk.scrapers.base import ScraperContext\n",
        "from web_search_sdk.scrapers import extract_article_content\n",
        "\n",
        "urls = [\n",
        "    \"https://www.cnbc.com/2025/07/14/bitcoin-hits-new-all-time-high-above-120000-fueled-by-etf-inflows-crypto.html\",\n",
        "    \"https://www.bloomberg.com/news/articles/2025-07-14/ethereum-jumps-as-upgrade-optimism-builds\"\n",
        "]\n",
        "\n",
        "# One shared context with Playwright enabled\n",
        "ctx = ScraperContext(\n",
        "    use_browser=True,\n",
        "    browser_type=\"playwright_stealth\",\n",
        "    timeout=40,\n",
        "    debug=True,\n",
        ")\n",
        "\n",
        "articles = await asyncio.gather(*(extract_article_content(u, ctx=ctx) for u in urls))\n",
        "\n",
        "for art in articles:\n",
        "    if art.get(\"error\"):\n",
        "        print(f\"\\n❌ FAILED for {art['url']}\\n   → {art['error']}\")\n",
        "    else:\n",
        "        print(f\"\\n--- {art['source']} ---\")\n",
        "        print(\"Title :\", art[\"title\"])\n",
        "        print(\"Chars :\", len(art[\"content\"]))"
      ]
    },
    {
      "cell_type": "markdown",
      "metadata": {
        "id": "IZjJWe84ITeo"
      },
      "source": [
        "<br>\n",
        "\n",
        "## 📚 Knowledge Banks\n"
      ]
    },
    {
      "cell_type": "markdown",
      "metadata": {
        "id": "EGFJVax_LAxV"
      },
      "source": [
        "1 Wikipedia - Linear (single topic)"
      ]
    },
    {
      "cell_type": "code",
      "execution_count": null,
      "metadata": {
        "colab": {
          "base_uri": "https://localhost:8080/"
        },
        "id": "jM9i3ohWLD3a",
        "outputId": "9e3b5c61-16f6-46e0-fefd-47c30a01ba24"
      },
      "outputs": [
        {
          "name": "stdout",
          "output_type": "stream",
          "text": [
            "Title : Bitcoin\n",
            "Top words: bitcoin, retrieved, original, archived, november, december, january, june, october, july\n",
            "Links sample: ['Bit (money)', 'Thai baht', 'Satoshi Nakamoto', 'White paper', 'Bitcoin Core', 'Latest release', 'Code repository', 'Written in', 'Free and open-source software', 'License']\n",
            "Content preview:\n",
            " Decentralized digital currency \n",
            " For the colloquial expression for coinage, see  Bit (money) . \n",
            " \"₿\" redirects here and is not to be confused with \"฿\" for  Thai baht . \n",
            " \n",
            " \n",
            " Bitcoin Commonly used logo of bitcoin Denominations Plural bitcoins Symbol ₿ (Unicode:  U+20BF   ₿   BITCOIN SIGN ) [ 1 ] Code BTC Precision 10 −8 Subunits   1 ⁄ 1000 millibitcoin   1 ⁄ 1 000 000 microbitcoin   1 ⁄ 100 000 000 …\n"
          ]
        }
      ],
      "source": [
        "from web_search_sdk.scrapers.wikipedia import wikipedia\n",
        "\n",
        "wiki = await wikipedia(\"bitcoin\", top_n=10)\n",
        "\n",
        "print(\"Title :\", wiki[\"title\"])\n",
        "print(\"Top words:\", \", \".join(wiki[\"top_words\"]))\n",
        "print(\"Links sample:\", wiki[\"links\"][:10])\n",
        "print(\"Content preview:\\n\", wiki[\"content\"][:400], \"…\")"
      ]
    },
    {
      "cell_type": "markdown",
      "metadata": {
        "id": "-j1sku_lLGHD"
      },
      "source": [
        "2 Wikipedia - async (two topic in parallel)"
      ]
    },
    {
      "cell_type": "code",
      "execution_count": null,
      "metadata": {
        "colab": {
          "base_uri": "https://localhost:8080/"
        },
        "id": "OIo2aC7DLNZE",
        "outputId": "524f7df5-8fbd-4d88-875a-73e3d85d6cad"
      },
      "outputs": [
        {
          "name": "stdout",
          "output_type": "stream",
          "text": [
            "\n",
            "BITCOIN – top words: ['bitcoin', 'retrieved', 'original', 'archived', 'november']\n",
            "\n",
            "ETHEREUM – top words: ['ethereum', 'retrieved', 'original', 'archived', 'blockchain']\n"
          ]
        }
      ],
      "source": [
        "import asyncio\n",
        "from web_search_sdk.scrapers.wikipedia import wikipedia\n",
        "\n",
        "topics = [\"bitcoin\", \"ethereum\"]\n",
        "\n",
        "pages = await asyncio.gather(*(wikipedia(t, top_n=5) for t in topics))\n",
        "\n",
        "for t, p in zip(topics, pages):\n",
        "    print(f\"\\n{t.upper()} – top words: {p['top_words']}\")"
      ]
    },
    {
      "cell_type": "markdown",
      "metadata": {
        "id": "kkCbfb3PLQ8n"
      },
      "source": [
        "3 Wikipedia – custom ScraperContext + raw HTML\n"
      ]
    },
    {
      "cell_type": "code",
      "execution_count": null,
      "metadata": {
        "colab": {
          "base_uri": "https://localhost:8080/"
        },
        "id": "u66F-IkQLQuM",
        "outputId": "97b6aa57-13a6-4b68-ada2-7235b6149d7c"
      },
      "outputs": [
        {
          "name": "stdout",
          "output_type": "stream",
          "text": [
            "Links (capped to 8): ['OpenAL', 'OpenAPI', 'Open-source artificial intelligence', 'Private', 'Artificial intelligence', 'Sam Altman', 'Elon Musk', 'Ilya Sutskever']\n",
            "Raw HTML length: 590508\n"
          ]
        }
      ],
      "source": [
        "from web_search_sdk.scrapers.base import ScraperContext\n",
        "from web_search_sdk.scrapers.wikipedia import wikipedia, wikipedia_raw\n",
        "\n",
        "ctx = ScraperContext(debug=True, timeout=30)\n",
        "\n",
        "page      = await wikipedia(\"openai\", ctx=ctx, top_n=8)\n",
        "raw_html  = await wikipedia_raw(\"openai\", ctx=ctx)\n",
        "\n",
        "print(\"Links (capped to 8):\", page[\"links\"])\n",
        "print(\"Raw HTML length:\", len(raw_html))"
      ]
    },
    {
      "cell_type": "markdown",
      "metadata": {
        "id": "yhjeml81LUeg"
      },
      "source": [
        "4 RelatedWords.org – linear (single seed)\n"
      ]
    },
    {
      "cell_type": "code",
      "execution_count": null,
      "metadata": {
        "colab": {
          "base_uri": "https://localhost:8080/"
        },
        "id": "-D2iKpFMLWGK",
        "outputId": "48522033-ebec-4a37-d9c7-527adf3c2526"
      },
      "outputs": [
        {
          "name": "stdout",
          "output_type": "stream",
          "text": [
            "Related words (first 20):\n",
            " ['blockchain', 'currency', 'bitcoin network', 'cryptography', 'node', 'satoshi nakamoto', 'open-source software', 'cryptocurrency wallet', 'cryptocurrency exchange', 'cryptocurrency', 'public-key cryptography', 'ethereum', 'qt', 'central bank', 'distributed ledger', 'university of cambridge', 'nobel memorial prize in economic sciences', 'gavin andresen', 'silk road', 'youtube']\n"
          ]
        }
      ],
      "source": [
        "from web_search_sdk.scrapers.related import related_words\n",
        "\n",
        "words = await related_words(\"bitcoin\")\n",
        "print(\"Related words (first 20):\\n\", words[:20])"
      ]
    },
    {
      "cell_type": "markdown",
      "metadata": {
        "id": "zrTNoncRLY_o"
      },
      "source": [
        "5 RelatedWords.org – async (two seeds in parallel)\n"
      ]
    },
    {
      "cell_type": "code",
      "execution_count": null,
      "metadata": {
        "colab": {
          "base_uri": "https://localhost:8080/"
        },
        "id": "6h3n7uySLaWB",
        "outputId": "41be76af-2af4-4d08-b2b1-9bc7dff743e7"
      },
      "outputs": [
        {
          "name": "stdout",
          "output_type": "stream",
          "text": [
            "\n",
            "BITCOIN – 288 words\n",
            "blockchain, currency, bitcoin network, cryptography, node, satoshi nakamoto, open-source software, cryptocurrency wallet, cryptocurrency exchange, cryptocurrency, public-key cryptography, ethereum, qt, central bank, distributed ledger …\n",
            "\n",
            "BLOCKCHAIN – 156 words\n",
            "bitcoin, ledger, peer-to-peer, cryptocurrency, ethereum, cryptocurrencies, cryptography, merkle tree, distributed ledger, proof-of-work system, server, trusted timestamping, hashcash, satoshi nakamoto, digital signature …\n"
          ]
        }
      ],
      "source": [
        "import asyncio\n",
        "from web_search_sdk.scrapers.related import related_words\n",
        "\n",
        "seeds = [\"bitcoin\", \"blockchain\"]\n",
        "\n",
        "word_lists = await asyncio.gather(*(related_words(s) for s in seeds))\n",
        "\n",
        "for s, wl in zip(seeds, word_lists):\n",
        "    print(f\"\\n{s.upper()} – {len(wl)} words\")\n",
        "    print(\", \".join(wl[:15]), \"…\")"
      ]
    },
    {
      "cell_type": "markdown",
      "metadata": {
        "id": "sXKJQCV9IUia"
      },
      "source": [
        "<br>\n",
        "\n",
        "## 🛠️ Utilities & Pipeline\n"
      ]
    },
    {
      "cell_type": "markdown",
      "metadata": {
        "id": "S5S5XxZhiOnC"
      },
      "source": [
        "1 Text helpers – tokenise / stop-word removal / frequency"
      ]
    },
    {
      "cell_type": "code",
      "execution_count": null,
      "metadata": {
        "colab": {
          "base_uri": "https://localhost:8080/"
        },
        "id": "NbCEUsZLiPhN",
        "outputId": "a82e1819-b821-401a-85e5-fc556ae7c43b"
      },
      "outputs": [
        {
          "name": "stdout",
          "output_type": "stream",
          "text": [
            "Tokens         : ['bitcoin', 'hits', 'new', 'all', 'time', 'high', 'as', 'investors', 'brace', 'for', 'another', 'rally']\n",
            "No stop-words  : ['bitcoin', 'hits', 'new', 'time', 'high', 'investors', 'brace', 'another', 'rally']\n",
            "Top frequency  : ['bitcoin', 'hits', 'new', 'time', 'high']\n"
          ]
        }
      ],
      "source": [
        "from web_search_sdk.utils.text import tokenise, remove_stopwords, most_common\n",
        "\n",
        "sentence = \"Bitcoin hits a new all-time high as investors brace for another rally.\"\n",
        "\n",
        "tokens        = tokenise(sentence)\n",
        "clean_tokens  = remove_stopwords(tokens)\n",
        "top_freq      = most_common(tokens, 5)\n",
        "\n",
        "print(\"Tokens         :\", tokens)\n",
        "print(\"No stop-words  :\", clean_tokens)\n",
        "print(\"Top frequency  :\", top_freq)"
      ]
    },
    {
      "cell_type": "markdown",
      "metadata": {
        "id": "VK04U0v6iSo5"
      },
      "source": [
        "2 Output helpers – write JSON & CSV"
      ]
    },
    {
      "cell_type": "code",
      "execution_count": null,
      "metadata": {
        "colab": {
          "base_uri": "https://localhost:8080/"
        },
        "id": "7MB6uaxaiUml",
        "outputId": "51766a30-0759-466b-f462-95d9576b0fd2"
      },
      "outputs": [
        {
          "name": "stdout",
          "output_type": "stream",
          "text": [
            "Wrote JSON → out/demo_tokens.json | bytes: 41\n",
            "Wrote CSV  → out/demo_tokens.csv | rows : 4\n"
          ]
        }
      ],
      "source": [
        "from web_search_sdk.utils.output import to_json, to_csv\n",
        "import pathlib, json, csv\n",
        "\n",
        "pathlib.Path(\"out\").mkdir(exist_ok=True)\n",
        "\n",
        "json_path = \"out/demo_tokens.json\"\n",
        "csv_path  = \"out/demo_tokens.csv\"\n",
        "\n",
        "data = [\"bitcoin\", \"ethereum\", \"solana\"]\n",
        "\n",
        "to_json(data, json_path)                    # overwrite by default\n",
        "to_csv([{\"token\": t} for t in data], csv_path)\n",
        "\n",
        "print(\"Wrote JSON →\", json_path, \"| bytes:\", pathlib.Path(json_path).stat().st_size)\n",
        "print(\"Wrote CSV  →\", csv_path,  \"| rows :\", sum(1 for _ in open(csv_path)))"
      ]
    },
    {
      "cell_type": "markdown",
      "metadata": {
        "id": "HccNSHP1iYJ0"
      },
      "source": [
        "3 Rate-limit decorator – two calls per second\n"
      ]
    },
    {
      "cell_type": "code",
      "execution_count": null,
      "metadata": {
        "colab": {
          "base_uri": "https://localhost:8080/"
        },
        "id": "_X-LEEm4iZnK",
        "outputId": "564a44d4-e594-411f-b30c-184937890ae5"
      },
      "outputs": [
        {
          "name": "stdout",
          "output_type": "stream",
          "text": [
            "tick 0\n",
            "tick 1\n",
            "tick 2\n",
            "tick 3\n",
            "tick 4\n",
            "tick 5\n"
          ]
        },
        {
          "data": {
            "text/plain": [
              "[None, None, None, None, None, None]"
            ]
          },
          "execution_count": 20,
          "metadata": {},
          "output_type": "execute_result"
        }
      ],
      "source": [
        "import asyncio\n",
        "from web_search_sdk.utils.rate_limit import rate_limited\n",
        "\n",
        "@rate_limited(calls=2, period=1.0)      # max 2 calls / second\n",
        "async def ping(i: int):\n",
        "    print(\"tick\", i)\n",
        "\n",
        "await asyncio.gather(*[ping(i) for i in range(6)])"
      ]
    },
    {
      "cell_type": "markdown",
      "metadata": {
        "id": "4jOlPreOicnZ"
      },
      "source": [
        "4 Parallel scraping helper – gather_scrapers"
      ]
    },
    {
      "cell_type": "code",
      "execution_count": null,
      "metadata": {
        "colab": {
          "base_uri": "https://localhost:8080/"
        },
        "id": "pwD14BV4iefQ",
        "outputId": "b38a1502-9591-4408-e065-2ffb2b029b18"
      },
      "outputs": [
        {
          "name": "stdout",
          "output_type": "stream",
          "text": [
            "Fetched links: ['https://bitcoin.org/', 'https://ethereum.org/en/', 'https://solana.com/']\n"
          ]
        }
      ],
      "source": [
        "# %% Parallel scraping – first link per term (fixed)\n",
        "import asyncio\n",
        "from web_search_sdk.scrapers.base import gather_scrapers\n",
        "from web_search_sdk.scrapers.duckduckgo_enhanced import _fetch_html as ddg_fetch\n",
        "from web_search_sdk.scrapers.duckduckgo_enhanced import _parse_html as ddg_parse\n",
        "\n",
        "terms = [\"bitcoin\", \"ethereum\", \"solana\"]\n",
        "\n",
        "def _parse_wrapper(html: str, term: str, ctx):\n",
        "    parsed = ddg_parse(html, top_n=1)        # returns dict with \"links\"\n",
        "    return parsed[\"links\"][0] if parsed[\"links\"] else None\n",
        "\n",
        "links = await gather_scrapers(\n",
        "    terms,\n",
        "    fetch=ddg_fetch,        # enhanced fetch (same HTML endpoint)\n",
        "    parse=_parse_wrapper,\n",
        "    parallelism=3,\n",
        ")\n",
        "\n",
        "print(\"Fetched links:\", links)"
      ]
    },
    {
      "cell_type": "markdown",
      "metadata": {
        "id": "c2dYQH76iiil"
      },
      "source": [
        "# Final Demo\n",
        "\n",
        "5 Mini pipeline – search → article extraction (sentiment-ready)\n"
      ]
    },
    {
      "cell_type": "code",
      "execution_count": null,
      "metadata": {
        "colab": {
          "base_uri": "https://localhost:8080/"
        },
        "id": "xFC8zphOitWO",
        "outputId": "ef2f843b-e380-4f24-d19e-19769af042c8"
      },
      "outputs": [
        {
          "name": "stdout",
          "output_type": "stream",
          "text": [
            "Searching news for: 'bitcoin rally'\n",
            "\n",
            "✅ Extracted articles:\n",
            "- Bitcoin's Rally To $112,000: Yes, It's Different This Time  (BENZINGA, 9052 chars)\n",
            "- Bitcoin is on a record-setting hot streak. 3 things are driving the latest rally in the top crypto.  (BUSINESSINSIDER, 5122 chars)\n",
            "- Bitcoin price likely to hit $130K before serious profit taking kicks in  (COINTELEGRAPH, 3191 chars)\n",
            "\n",
            "❌ Failures:\n",
            "- https://www.thestreet.com/crypto/markets/bitcoin-experts-explain-why-its-set-to-rally-to-200000-this-year  → empty/blocked\n",
            "- https://www.marketwatch.com/story/bitcoin-hits-record-high-why-the-cryptos-rally-may-lose-steam-after-briefly-topping-112-000-00941186  → empty/blocked\n"
          ]
        }
      ],
      "source": [
        "# %% Mini pipeline – search → article extraction (robust)\n",
        "import asyncio, textwrap\n",
        "from web_search_sdk.scrapers.search import search_and_parse\n",
        "from web_search_sdk.scrapers import extract_article_content\n",
        "from web_search_sdk.scrapers.base import ScraperContext\n",
        "\n",
        "ctx_play = ScraperContext(use_browser=True,\n",
        "                          browser_type=\"playwright_stealth\",\n",
        "                          timeout=40)\n",
        "\n",
        "def wrap(text, width=90):\n",
        "    return \"\\n\".join(textwrap.wrap(text, width))\n",
        "\n",
        "async def pipeline(topic: str, top_n:int=5):\n",
        "    print(f\"Searching news for: {topic!r}\")\n",
        "    res = await search_and_parse(topic, top_n=top_n)\n",
        "\n",
        "    successes, failures = [], []\n",
        "    for r in res[\"results\"]:\n",
        "        url = r[\"url\"]\n",
        "        if not url:\n",
        "            continue\n",
        "        art = await extract_article_content(url, ctx=ctx_play)\n",
        "        if art.get(\"content\"):\n",
        "            successes.append({\n",
        "                \"title\": art[\"title\"],\n",
        "                \"source\": art[\"source\"],\n",
        "                \"chars\": len(art[\"content\"]),\n",
        "                \"url\": url\n",
        "            })\n",
        "        else:\n",
        "            failures.append({\"url\": url, \"reason\": art.get(\"error\",\"empty/blocked\")})\n",
        "\n",
        "    return successes, failures\n",
        "\n",
        "succ, fail = await pipeline(\"bitcoin rally\")\n",
        "\n",
        "print(\"\\n✅ Extracted articles:\")\n",
        "for a in succ:\n",
        "    print(f\"- {a['title']}  ({a['source']}, {a['chars']} chars)\")\n",
        "\n",
        "print(\"\\n❌ Failures:\")\n",
        "for f in fail:\n",
        "    print(f\"- {f['url']}  → {f['reason']}\")"
      ]
    }
  ],
  "metadata": {
    "colab": {
      "collapsed_sections": [
        "dcp8pBidtAtl",
        "KHpiWuAEwwHa"
      ],
      "provenance": []
    },
    "kernelspec": {
      "display_name": ".venv",
      "language": "python",
      "name": "python3"
    },
    "language_info": {
      "codemirror_mode": {
        "name": "ipython",
        "version": 3
      },
      "file_extension": ".py",
      "mimetype": "text/x-python",
      "name": "python",
      "nbconvert_exporter": "python",
      "pygments_lexer": "ipython3",
      "version": "3.13.5"
    }
  },
  "nbformat": 4,
  "nbformat_minor": 0
}
