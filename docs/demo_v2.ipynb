{
 "cells": [
  {
   "cell_type": "markdown",
   "id": "68ec3779",
   "metadata": {},
   "source": [
    "# # Web-Search SDK – End-to-End Demo (V2)\n",
    "# \n",
    "# This notebook shows **how to install, configure and use** the SDK to pull\n",
    "# publicly-available web signals – from simple keyword extraction to\n",
    "# paywall handling and Twitter scraping – in **under 3 minutes**.\n",
    "# \n",
    "# <https://github.com/Gregory-307/web-search-sdk>\n",
    "# \n",
    "# ---\n",
    "# **Tip** Set `OFFLINE_MODE=1` to run everything against fixture HTML – great\n",
    "# for CI or airplane mode!\n",
    "\n"
   ]
  },
  {
   "cell_type": "markdown",
   "id": "eefa6a78",
   "metadata": {},
   "source": [
    "# ## 1  Environment & Installation *(skippable)*\n",
    "# Use the editable install for local development.  Skip this cell when the\n",
    "# SDK is already in your environment or running on GitHub Codespaces.\n",
    "\n"
   ]
  },
  {
   "cell_type": "code",
   "execution_count": null,
   "id": "30f52a7f",
   "metadata": {},
   "outputs": [],
   "source": [
    "import os, subprocess, sys, pathlib, importlib.util\n",
    "\n",
    "# Allow users / CI to opt-out\n",
    "if not os.getenv(\"SKIP_INSTALL\"):\n",
    "    ROOT = pathlib.Path(\".\").resolve()\n",
    "    try:\n",
    "        importlib.util.find_spec(\"web_search_sdk\")  # type: ignore\n",
    "        print(\"web_search_sdk already importable – skipping install\")\n",
    "    except ImportError:\n",
    "        print(\"Installing package in editable mode…\")\n",
    "        subprocess.check_call([sys.executable, \"-m\", \"pip\", \"install\", \"-q\", \"-e\", f\"{ROOT}[browser]\"])\n",
    "\n",
    "    # Ensure Playwright Python package + browsers (idempotent)\n",
    "    try:\n",
    "        import playwright  # type: ignore\n",
    "    except ImportError:\n",
    "        print(\"Installing Playwright Python package…\")\n",
    "        subprocess.check_call([sys.executable, \"-m\", \"pip\", \"install\", \"-q\", \"playwright\"])\n",
    "        import importlib\n",
    "        playwright = importlib.import_module(\"playwright\")  # type: ignore\n",
    "\n",
    "    # Install browser binaries (runs noop if already installed)\n",
    "    try:\n",
    "        subprocess.check_call([sys.executable, \"-m\", \"playwright\", \"install\", \"--with-deps\"])\n",
    "    except Exception as exc:  # noqa: BLE001\n",
    "        print(\"Playwright browser install skipped/failed:\", exc)\n",
    "\n"
   ]
  },
  {
   "cell_type": "markdown",
   "id": "485341e9",
   "metadata": {},
   "source": [
    "# ## 2  Quick Smoke Test\n",
    "# Confirms the SDK imports and basic smoke test passes.\n",
    "\n"
   ]
  },
  {
   "cell_type": "code",
   "execution_count": null,
   "id": "8dae90f3",
   "metadata": {},
   "outputs": [],
   "source": [
    "import runpy, importlib\n",
    "print(\"web_search_sdk version:\", importlib.import_module(\"web_search_sdk\").__version__)\n",
    "runpy.run_path(\"smoke_test.py\")\n",
    "\n"
   ]
  },
  {
   "cell_type": "markdown",
   "id": "327a4a1a",
   "metadata": {},
   "source": [
    "# ## 3  ScraperContext Cheatsheet\n",
    "# `ScraperContext` controls headers, timeouts, proxies and browser fallback.\n",
    "\n"
   ]
  },
  {
   "cell_type": "code",
   "execution_count": null,
   "id": "c272c7ef",
   "metadata": {},
   "outputs": [],
   "source": [
    "from web_search_sdk.scrapers.base import ScraperContext\n",
    "ctx_http  = ScraperContext()\n",
    "ctx_selen = ScraperContext(use_browser=True, browser_type=\"selenium\", debug=False)\n",
    "ctx_play  = ScraperContext(use_browser=True, browser_type=\"playwright_stealth\")\n",
    "ctx_http, ctx_selen, ctx_play\n",
    "\n"
   ]
  },
  {
   "cell_type": "markdown",
   "id": "2fdf77bf",
   "metadata": {},
   "source": [
    "# ## 4  Core Scrapers\n",
    "# ### 4.1 DuckDuckGo – Top Words\n",
    "\n"
   ]
  },
  {
   "cell_type": "code",
   "execution_count": null,
   "id": "8ecf4911",
   "metadata": {},
   "outputs": [],
   "source": [
    "from web_search_sdk.scrapers.duckduckgo_web import duckduckgo_top_words\n",
    "print(await duckduckgo_top_words(\"bitcoin swing\", ctx_http, top_n=15))\n",
    "\n"
   ]
  },
  {
   "cell_type": "markdown",
   "id": "bc2e97a0",
   "metadata": {},
   "source": [
    "# ### 4.2 Wikipedia – Top Words\n",
    "\n"
   ]
  },
  {
   "cell_type": "code",
   "execution_count": null,
   "id": "c7cb952a",
   "metadata": {},
   "outputs": [],
   "source": [
    "from web_search_sdk.scrapers.wikipedia import wikipedia_top_words\n",
    "print(await wikipedia_top_words(\"bitcoin\", ctx_http, top_n=15))\n",
    "\n"
   ]
  },
  {
   "cell_type": "markdown",
   "id": "834c54b3",
   "metadata": {},
   "source": [
    "# ### 4.3 RelatedWords – Synonyms\n",
    "\n"
   ]
  },
  {
   "cell_type": "code",
   "execution_count": null,
   "id": "db875d01",
   "metadata": {},
   "outputs": [],
   "source": [
    "from web_search_sdk.scrapers.related import related_words\n",
    "_syn = await related_words(\"bitcoin\", ctx_http)\n",
    "print(_syn[:15])\n",
    "\n"
   ]
  },
  {
   "cell_type": "markdown",
   "id": "bd6896ba",
   "metadata": {},
   "source": [
    "# ### 4.4 Google News RSS – Keywords\n",
    "\n"
   ]
  },
  {
   "cell_type": "code",
   "execution_count": null,
   "id": "c1f0d572",
   "metadata": {},
   "outputs": [],
   "source": [
    "from web_search_sdk.scrapers.news import google_news_top_words\n",
    "print(await google_news_top_words(\"bitcoin\", ctx_http, top_n=15))\n",
    "\n"
   ]
  },
  {
   "cell_type": "markdown",
   "id": "e2c9e024",
   "metadata": {},
   "source": [
    "# ## 5  Google SERP Fallback *(optional)*\n",
    "# Heavy and may hit CAPTCHA – set `RUN_GOOGLE=1` to enable.\n",
    "\n"
   ]
  },
  {
   "cell_type": "code",
   "execution_count": null,
   "id": "3e97107b",
   "metadata": {},
   "outputs": [],
   "source": [
    "if os.getenv(\"RUN_GOOGLE\") == \"1\":\n",
    "    from web_search_sdk.scrapers.google_web import google_web_top_words\n",
    "    print(await google_web_top_words(\"bitcoin swing\", ctx_play, top_n=15))\n",
    "else:\n",
    "    print(\"[skipped] Set RUN_GOOGLE=1 to scrape Google SERP\")\n",
    "\n"
   ]
  },
  {
   "cell_type": "markdown",
   "id": "0885c756",
   "metadata": {},
   "source": [
    "# ## 6  Paywall Article Retrieval\n",
    "# Demonstrates browser rendering fallback. Skips offline.\n",
    "\n"
   ]
  },
  {
   "cell_type": "code",
   "execution_count": null,
   "id": "f32e381f",
   "metadata": {},
   "outputs": [],
   "source": [
    "from web_search_sdk.scrapers.paywall import fetch_bloomberg\n",
    "if os.getenv(\"OFFLINE_MODE\"):\n",
    "    print(\"[skipped] Offline mode – using fixtures\")\n",
    "else:\n",
    "    art = await fetch_bloomberg(\"https://www.bloomberg.com/news/articles/2023-12-01/bitcoin-price-breaks-40k\", ctx_play)\n",
    "    print(art[:400], \"…\")\n",
    "\n"
   ]
  },
  {
   "cell_type": "markdown",
   "id": "0cb515ce",
   "metadata": {},
   "source": [
    "# ## 7  Twitter Login & Sample Scrape *(experimental)*\n",
    "# **Requires** env vars `TW_EMAIL`, `TW_PASS`.  Skips when absent.\n",
    "\n"
   ]
  },
  {
   "cell_type": "code",
   "execution_count": null,
   "id": "382f8443",
   "metadata": {},
   "outputs": [],
   "source": [
    "if os.getenv(\"RUN_TWITTER\") == \"1\":\n",
    "    tw_user = os.getenv(\"TW_EMAIL\")\n",
    "    tw_pass = os.getenv(\"TW_PASS\")\n",
    "    if not tw_user or not tw_pass:\n",
    "        print(\"[env missing] Provide TW_EMAIL/TW_PASS to run Twitter demo\")\n",
    "    else:\n",
    "        # Minimal inline Playwright demo (pseudo-code for brevity)\n",
    "        from playwright.async_api import async_playwright  # type: ignore\n",
    "        async with async_playwright() as p:\n",
    "            browser = await p.chromium.launch(headless=True)\n",
    "            page = await browser.new_page()\n",
    "            await page.goto(\"https://twitter.com/login\")\n",
    "            await page.fill(\"input[name='text']\", tw_user)\n",
    "            await page.press(\"input[name='text']\", \"Enter\")\n",
    "            await page.fill(\"input[name='password']\", tw_pass)\n",
    "            await page.press(\"input[name='password']\", \"Enter\")\n",
    "            await page.wait_for_selector(\"article\")\n",
    "            html = await page.content()\n",
    "            print(html[:500], \"…\")\n",
    "            await browser.close()\n",
    "else:\n",
    "    print(\"[skipped] Set RUN_TWITTER=1 with creds to enable Twitter demo\")\n",
    "\n"
   ]
  },
  {
   "cell_type": "markdown",
   "id": "7801c31e",
   "metadata": {},
   "source": [
    "# ## 8  Output Utilities\n",
    "\n"
   ]
  },
  {
   "cell_type": "code",
   "execution_count": null,
   "id": "c40e6a8a",
   "metadata": {},
   "outputs": [],
   "source": [
    "from web_search_sdk.utils.output import to_json, to_csv\n",
    "import json, pathlib\n",
    "pathlib.Path(\"out\").mkdir(exist_ok=True)\n",
    "\n",
    "json_path = \"out/demo_tokens.json\"\n",
    "to_json([\"btc\", \"eth\", \"doge\"], json_path, append=False)\n",
    "print(\"Wrote\", json_path, \"bytes:\", pathlib.Path(json_path).stat().st_size)\n",
    "\n",
    "csv_path = \"out/demo_tokens.csv\"\n",
    "to_csv([{\"term\": \"btc\", \"hits\": 120}], csv_path, append=False)\n",
    "print(\"Wrote\", csv_path, \"bytes:\", pathlib.Path(csv_path).stat().st_size)\n",
    "\n"
   ]
  },
  {
   "cell_type": "markdown",
   "id": "749161c8",
   "metadata": {},
   "source": [
    "# ## 9  Text Helpers\n",
    "\n"
   ]
  },
  {
   "cell_type": "code",
   "execution_count": null,
   "id": "09bbb8b2",
   "metadata": {},
   "outputs": [],
   "source": [
    "from web_search_sdk.utils.text import tokenise, remove_stopwords, most_common\n",
    "raw = \"Bitcoin's all-time high price sparks FOMO!\"\n",
    "print(\"tokens:\", tokenise(raw))\n",
    "print(\"no stopwords:\", remove_stopwords(tokenise(raw)))\n",
    "print(\"top:\", most_common(tokenise(raw), 3))\n",
    "\n"
   ]
  },
  {
   "cell_type": "markdown",
   "id": "9867f85b",
   "metadata": {},
   "source": [
    "# ## 10  Rate-Limit Decorator\n",
    "\n"
   ]
  },
  {
   "cell_type": "code",
   "execution_count": null,
   "id": "0f5dc500",
   "metadata": {},
   "outputs": [],
   "source": [
    "import asyncio\n",
    "from web_search_sdk.utils.rate_limit import rate_limited\n",
    "\n",
    "@rate_limited(calls=2, period=1.0)\n",
    "async def _ping(i: int):\n",
    "    print(\"tick\", i)\n",
    "\n",
    "await asyncio.gather(*[_ping(i) for i in range(5)])\n",
    "\n"
   ]
  },
  {
   "cell_type": "markdown",
   "id": "5b6aabcc",
   "metadata": {},
   "source": [
    "# ## 11  Parallel Scraping Example\n",
    "\n"
   ]
  },
  {
   "cell_type": "code",
   "execution_count": null,
   "id": "65c58125",
   "metadata": {},
   "outputs": [],
   "source": [
    "from web_search_sdk.scrapers.base import gather_scrapers\n",
    "from web_search_sdk.scrapers.duckduckgo_web import _fetch_html as _ddg_fetch, _parse_html as _ddg_parse\n",
    "\n",
    "terms = [\"bitcoin\", \"ethereum\", \"solana\"]\n",
    "async def _parse_wrapper(html: str, term: str, ctx):\n",
    "    return _ddg_parse(html, top_n=5)\n",
    "\n",
    "print(await gather_scrapers(terms, fetch=_ddg_fetch, parse=_parse_wrapper, ctx=ctx_http))\n",
    "\n"
   ]
  },
  {
   "cell_type": "markdown",
   "id": "63583638",
   "metadata": {},
   "source": [
    "# ## 12  Closing Notes\n",
    "# - SDK roadmap in `Progress_Report_v0.2.0.md`\n",
    "# - Star the repo if you find it useful ⭐\n",
    "# - PRs welcome – see `CONTRIBUTING.md` "
   ]
  }
 ],
 "metadata": {
  "kernelspec": {
   "display_name": "Python 3",
   "name": "python3"
  }
 },
 "nbformat": 4,
 "nbformat_minor": 5
}